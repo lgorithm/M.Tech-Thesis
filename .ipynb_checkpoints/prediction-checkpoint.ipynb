{
 "cells": [
  {
   "cell_type": "code",
   "execution_count": 88,
   "metadata": {},
   "outputs": [],
   "source": [
    "import cv2\n",
    "import tensorflow as tf"
   ]
  },
  {
   "cell_type": "code",
   "execution_count": 89,
   "metadata": {},
   "outputs": [
    {
     "name": "stdout",
     "output_type": "stream",
     "text": [
      "[[1.0000000e+00 2.2717635e-23 0.0000000e+00 0.0000000e+00 2.2506414e-36\n",
      "  0.0000000e+00 0.0000000e+00]]\n",
      "Human\n"
     ]
    }
   ],
   "source": [
    "CATEGORIES = [\"Birds\", \"cats\",\"dogs\",\"elephant\",\"Human\",\"nothing\",\"ox\"]\n",
    "def prepare(filepath):\n",
    "    IMG_SIZE = 224  # 50 in txt-based\n",
    "    img_array = cv2.imread(filepath, -1)\n",
    "    new_array = cv2.resize(img_array, (IMG_SIZE, IMG_SIZE))\n",
    "    return new_array.reshape(-3,IMG_SIZE, IMG_SIZE, 3)\n",
    "\n",
    "model = tf.keras.models.load_model(\"facefeatures_new_model.h5\")\n",
    "prediction = model.predict([prepare('human.jpg')])\n",
    "print(prediction)\n",
    "k=0\n",
    "for i in range(7):\n",
    "    if(k<prediction[0][i]):\n",
    "        k == prediction[0][i]\n",
    "        ans =  i\n",
    "print(CATEGORIES[ans])\n",
    "\n"
   ]
  },
  {
   "cell_type": "code",
   "execution_count": null,
   "metadata": {},
   "outputs": [],
   "source": []
  }
 ],
 "metadata": {
  "kernelspec": {
   "display_name": "Python 3 (ipykernel)",
   "language": "python",
   "name": "python3"
  },
  "language_info": {
   "codemirror_mode": {
    "name": "ipython",
    "version": 3
   },
   "file_extension": ".py",
   "mimetype": "text/x-python",
   "name": "python",
   "nbconvert_exporter": "python",
   "pygments_lexer": "ipython3",
   "version": "3.9.7"
  }
 },
 "nbformat": 4,
 "nbformat_minor": 4
}
